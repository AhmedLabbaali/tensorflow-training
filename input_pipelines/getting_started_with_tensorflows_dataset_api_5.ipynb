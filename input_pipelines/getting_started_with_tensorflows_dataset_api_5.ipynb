{
 "cells": [
  {
   "cell_type": "markdown",
   "metadata": {},
   "source": [
    "# Getting started with TensorFlow's `Dataset` API\n",
    "\n",
    "A very simple input pipeline for data augmentation"
   ]
  },
  {
   "cell_type": "code",
   "execution_count": 1,
   "metadata": {},
   "outputs": [],
   "source": [
    "import numpy as np\n",
    "import tensorflow as tf"
   ]
  },
  {
   "cell_type": "code",
   "execution_count": 2,
   "metadata": {},
   "outputs": [],
   "source": [
    "def data_generator():\n",
    "    \"\"\"Generate fake image data with fale labels\"\"\"\n",
    "    for i in range(10):\n",
    "        yield np.random.random((24, 24, 3)), (np.random.randint(10),)\n",
    "               #(np.random.random((1,)) * 10).astype(np.int32))\n",
    "        \n",
    "\n",
    "def data_augmentation(image, label):\n",
    "    \"\"\"Create distortions from a given image\"\"\"\n",
    "    # Create distortions\n",
    "    flip_up_down = tf.image.flip_up_down(image)\n",
    "    flip_left_right = tf.image.flip_left_right(image)\n",
    "    random_brightness = tf.image.random_brightness(image, max_delta=63/255.0)\n",
    "    random_contrast = tf.image.random_contrast(image, lower=0.2, upper=1.8)\n",
    "    \n",
    "    # Put all distortions together\n",
    "    image_batch = tf.concat([image,\n",
    "                             flip_up_down,\n",
    "                             flip_left_right,\n",
    "                             random_brightness,\n",
    "                             random_contrast], axis=0)\n",
    "    \n",
    "    # Repeat (tile) the label so all images have one \n",
    "    label_batch_shape = (tf.shape(image_batch)[0] // tf.shape(label)[0], tf.shape(label)[1])\n",
    "    return image_batch, tf.tile(label, label_batch_shape)"
   ]
  },
  {
   "cell_type": "code",
   "execution_count": 3,
   "metadata": {},
   "outputs": [],
   "source": [
    "dataset = tf.data.Dataset.from_generator(data_generator, output_types=(tf.float32, tf.int32))\n",
    "dataset = dataset.batch(2)\n",
    "dataset = dataset.map(data_augmentation)\n",
    "iterator = dataset.make_one_shot_iterator()\n",
    "next_item = iterator.get_next()"
   ]
  },
  {
   "cell_type": "code",
   "execution_count": 4,
   "metadata": {},
   "outputs": [
    {
     "name": "stdout",
     "output_type": "stream",
     "text": [
      "(10, 24, 24, 3) (10, 1)\n"
     ]
    }
   ],
   "source": [
    "with tf.Session() as sess:\n",
    "    x, y = sess.run(next_item)\n",
    "    print(x.shape, y.shape)"
   ]
  }
 ],
 "metadata": {
  "kernelspec": {
   "display_name": "Python 3",
   "language": "python",
   "name": "python3"
  },
  "language_info": {
   "codemirror_mode": {
    "name": "ipython",
    "version": 3
   },
   "file_extension": ".py",
   "mimetype": "text/x-python",
   "name": "python",
   "nbconvert_exporter": "python",
   "pygments_lexer": "ipython3",
   "version": "3.6.2"
  }
 },
 "nbformat": 4,
 "nbformat_minor": 2
}
