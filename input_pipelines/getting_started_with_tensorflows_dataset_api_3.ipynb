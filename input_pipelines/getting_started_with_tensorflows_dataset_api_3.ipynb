{
 "cells": [
  {
   "cell_type": "markdown",
   "metadata": {},
   "source": [
    "# Getting started with TensorFlow's Dataset API (continuation)\n",
    "\n",
    "In this notebook we will contruct `Dataset` objects from user-defined python generators."
   ]
  },
  {
   "cell_type": "code",
   "execution_count": 1,
   "metadata": {},
   "outputs": [],
   "source": [
    "import numpy as np\n",
    "import tensorflow as tf"
   ]
  },
  {
   "cell_type": "code",
   "execution_count": 2,
   "metadata": {
    "scrolled": true
   },
   "outputs": [
    {
     "data": {
      "text/plain": [
       "'1.12.0'"
      ]
     },
     "execution_count": 2,
     "metadata": {},
     "output_type": "execute_result"
    }
   ],
   "source": [
    "tf.VERSION"
   ]
  },
  {
   "cell_type": "code",
   "execution_count": 3,
   "metadata": {},
   "outputs": [],
   "source": [
    "def dataset_generator():\n",
    "    \"\"\"A data-producing logic\"\"\"\n",
    "    for i in range(10):\n",
    "        yield (np.random.random([4]), i)"
   ]
  },
  {
   "cell_type": "code",
   "execution_count": 4,
   "metadata": {},
   "outputs": [
    {
     "name": "stdout",
     "output_type": "stream",
     "text": [
      "(array([0.21413736, 0.89962114, 0.34717722, 0.97837365]), 0)\n",
      "(array([0.62102295, 0.33700377, 0.53802452, 0.34527054]), 1)\n",
      "(array([0.51957053, 0.62097398, 0.91608426, 0.92252281]), 2)\n",
      "(array([0.02989156, 0.06414512, 0.32852923, 0.43791131]), 3)\n",
      "(array([0.87601812, 0.86209492, 0.06721322, 0.05266822]), 4)\n",
      "(array([0.61676657, 0.56429246, 0.49519676, 0.49357635]), 5)\n",
      "(array([0.85268642, 0.16021559, 0.81421868, 0.16235602]), 6)\n",
      "(array([0.21927717, 0.02578873, 0.16926137, 0.57791297]), 7)\n",
      "(array([0.45441587, 0.55781128, 0.99524347, 0.53489464]), 8)\n",
      "(array([0.00911221, 0.327556  , 0.4837321 , 0.77481133]), 9)\n"
     ]
    }
   ],
   "source": [
    "for i in dataset_generator():\n",
    "    print(i)"
   ]
  },
  {
   "cell_type": "code",
   "execution_count": 5,
   "metadata": {},
   "outputs": [],
   "source": [
    "dataset = tf.data.Dataset.from_generator(dataset_generator, output_types=(tf.float32, tf.int32))\n",
    "iterator = dataset.make_one_shot_iterator()\n",
    "next_item = iterator.get_next()"
   ]
  },
  {
   "cell_type": "code",
   "execution_count": 6,
   "metadata": {},
   "outputs": [
    {
     "name": "stdout",
     "output_type": "stream",
     "text": [
      "features: [0.4389241  0.658306   0.34342068 0.8127252 ]  |  label: 0\n",
      "features: [0.70937    0.6801202  0.75700814 0.86524224]  |  label: 1\n",
      "features: [0.9636134 0.5067894 0.3817933 0.4132153]  |  label: 2\n",
      "features: [0.87226754 0.01352761 0.8667968  0.75782055]  |  label: 3\n",
      "features: [0.7409936  0.2437395  0.4855215  0.17426667]  |  label: 4\n",
      "features: [0.2923314  0.7469865  0.22834536 0.44102287]  |  label: 5\n",
      "features: [0.2684892  0.19937906 0.5534683  0.33727953]  |  label: 6\n",
      "features: [0.36276948 0.77746344 0.00196521 0.9983215 ]  |  label: 7\n",
      "features: [0.76171285 0.7799833  0.08518038 0.9035363 ]  |  label: 8\n",
      "features: [0.0389096 0.8985986 0.5428115 0.3832675]  |  label: 9\n"
     ]
    }
   ],
   "source": [
    "with tf.Session() as sess:\n",
    "    try:\n",
    "        for i in range(10):\n",
    "            features, label = sess.run(next_item)\n",
    "            print('features: %s  |  label: %s' % (features, label))\n",
    "    except tf.errors.OutOfRangeError:\n",
    "        print('The dataset ran out of entries!')"
   ]
  },
  {
   "cell_type": "code",
   "execution_count": 7,
   "metadata": {},
   "outputs": [],
   "source": [
    "def dataset_generator():\n",
    "    \"\"\"A data-producing logic\"\"\"\n",
    "    for i in range(10):\n",
    "        yield {'features': np.random.random([4]), 'label': i}"
   ]
  },
  {
   "cell_type": "code",
   "execution_count": 8,
   "metadata": {},
   "outputs": [],
   "source": [
    "dataset = tf.data.Dataset.from_generator(dataset_generator, output_types=({'features': tf.float32,\n",
    "                                                                           'label':tf.int32}))\n",
    "dataset = dataset.repeat()\n",
    "iterator = dataset.make_one_shot_iterator()\n",
    "next_item = iterator.get_next()"
   ]
  },
  {
   "cell_type": "code",
   "execution_count": 9,
   "metadata": {},
   "outputs": [
    {
     "name": "stdout",
     "output_type": "stream",
     "text": [
      "features: [0.12664254 0.24528153 0.8929983  0.251323  ]  |  label: 0\n",
      "features: [0.60858345 0.31532422 0.2696976  0.8578767 ]  |  label: 1\n",
      "features: [0.53078467 0.19051754 0.41963285 0.4426176 ]  |  label: 2\n",
      "features: [0.20061171 0.6182147  0.80167514 0.8960162 ]  |  label: 3\n",
      "features: [0.42585117 0.50923234 0.26869646 0.7943657 ]  |  label: 4\n",
      "features: [0.0780185  0.92577285 0.84408784 0.4917763 ]  |  label: 5\n",
      "features: [0.2066731  0.8235747  0.96834207 0.89794326]  |  label: 6\n",
      "features: [0.8967705  0.11389095 0.9752993  0.04319047]  |  label: 7\n",
      "features: [0.35424942 0.51549697 0.67195696 0.97359014]  |  label: 8\n",
      "features: [0.40732422 0.75835764 0.77130884 0.19294138]  |  label: 9\n"
     ]
    }
   ],
   "source": [
    "with tf.Session() as sess:\n",
    "    try:\n",
    "        for i in range(10):\n",
    "            entry = sess.run(next_item)\n",
    "            print('features: %s  |  label: %s' % (entry['features'], entry['label']))\n",
    "    except tf.errors.OutOfRangeError:\n",
    "        print('The dataset ran out of entries!')"
   ]
  }
 ],
 "metadata": {
  "kernelspec": {
   "display_name": "Python 3",
   "language": "python",
   "name": "python3"
  },
  "language_info": {
   "codemirror_mode": {
    "name": "ipython",
    "version": 3
   },
   "file_extension": ".py",
   "mimetype": "text/x-python",
   "name": "python",
   "nbconvert_exporter": "python",
   "pygments_lexer": "ipython3",
   "version": "3.6.2"
  }
 },
 "nbformat": 4,
 "nbformat_minor": 2
}
