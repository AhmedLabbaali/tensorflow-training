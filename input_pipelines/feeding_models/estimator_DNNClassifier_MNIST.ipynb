{
 "cells": [
  {
   "cell_type": "markdown",
   "metadata": {},
   "source": [
    "# MNIST data classification: Premade estimator and input pipeline\n",
    "\n",
    "This notebook shows how to use input pipelines with a premade estimator. You can monitor the training live with tensorboard!\n",
    "```\n",
    "tensorboard --logdir=/path/to/summary\n",
    "```"
   ]
  },
  {
   "cell_type": "code",
   "execution_count": 1,
   "metadata": {},
   "outputs": [],
   "source": [
    "import numpy as np\n",
    "import matplotlib\n",
    "import matplotlib.pyplot as plt\n",
    "import tensorflow as tf"
   ]
  },
  {
   "cell_type": "code",
   "execution_count": 2,
   "metadata": {},
   "outputs": [
    {
     "data": {
      "text/plain": [
       "'1.12.0'"
      ]
     },
     "execution_count": 2,
     "metadata": {},
     "output_type": "execute_result"
    }
   ],
   "source": [
    "tf.VERSION"
   ]
  },
  {
   "cell_type": "code",
   "execution_count": 3,
   "metadata": {},
   "outputs": [],
   "source": [
    "def decode(serialized_example):\n",
    "    \"\"\"Parses an image and label from the given `serialized_example`.\"\"\"\n",
    "    features = tf.parse_single_example(\n",
    "        serialized_example,\n",
    "        features={\n",
    "            'image_raw': tf.FixedLenFeature([], tf.string),\n",
    "            'label': tf.FixedLenFeature([], tf.int64),\n",
    "        })\n",
    "    label = tf.cast(features['label'], tf.int32)\n",
    "    image = tf.decode_raw(features['image_raw'], tf.uint8)\n",
    "    return image, label\n",
    "\n",
    "\n",
    "def normalize(image, label):\n",
    "    \"\"\"Convert `image` from [0, 255] -> [-0.5, 0.5] floats.\"\"\"\n",
    "    image = tf.cast(image, tf.float32) * (1. / 255) - 0.5\n",
    "    return {'img': image}, label\n",
    "\n",
    "\n",
    "def train_input_fn():\n",
    "    \"\"\"Reads input data num_epochs times.\"\"\"\n",
    "    dataset = tf.data.TFRecordDataset('train.tfrecords')\n",
    "    dataset = dataset.map(decode)\n",
    "    dataset = dataset.map(normalize)\n",
    "    dataset = dataset.shuffle(6000)\n",
    "    dataset = dataset.batch(256)\n",
    "    dataset = dataset.repeat(5)\n",
    "    \n",
    "    iterator = dataset.make_one_shot_iterator()\n",
    "    image, label = iterator.get_next()\n",
    "    return image, label"
   ]
  },
  {
   "cell_type": "code",
   "execution_count": 4,
   "metadata": {},
   "outputs": [],
   "source": [
    "img = tf.feature_column.numeric_column('img', dtype=tf.float64, shape=(784,))"
   ]
  },
  {
   "cell_type": "code",
   "execution_count": 5,
   "metadata": {},
   "outputs": [
    {
     "name": "stdout",
     "output_type": "stream",
     "text": [
      "INFO:tensorflow:Using default config.\n",
      "INFO:tensorflow:Using config: {'_model_dir': './summary', '_tf_random_seed': None, '_save_summary_steps': 100, '_save_checkpoints_steps': None, '_save_checkpoints_secs': 600, '_session_config': allow_soft_placement: true\n",
      "graph_options {\n",
      "  rewrite_options {\n",
      "    meta_optimizer_iterations: ONE\n",
      "  }\n",
      "}\n",
      ", '_keep_checkpoint_max': 5, '_keep_checkpoint_every_n_hours': 10000, '_log_step_count_steps': 100, '_train_distribute': None, '_device_fn': None, '_protocol': None, '_eval_distribute': None, '_experimental_distribute': None, '_service': None, '_cluster_spec': <tensorflow.python.training.server_lib.ClusterSpec object at 0x7f61184c3fd0>, '_task_type': 'worker', '_task_id': 0, '_global_id_in_cluster': 0, '_master': '', '_evaluation_master': '', '_is_chief': True, '_num_ps_replicas': 0, '_num_worker_replicas': 1}\n"
     ]
    }
   ],
   "source": [
    "estimator = tf.estimator.DNNClassifier(feature_columns=[img],\n",
    "                                       hidden_units=[256, 32],\n",
    "                                       optimizer=tf.train.AdamOptimizer(1e-4),\n",
    "                                       n_classes=10,\n",
    "                                       model_dir='./summary')"
   ]
  },
  {
   "cell_type": "code",
   "execution_count": 6,
   "metadata": {},
   "outputs": [],
   "source": [
    "! rm -r summary/"
   ]
  },
  {
   "cell_type": "code",
   "execution_count": 7,
   "metadata": {
    "scrolled": false
   },
   "outputs": [
    {
     "name": "stdout",
     "output_type": "stream",
     "text": [
      "INFO:tensorflow:Calling model_fn.\n",
      "INFO:tensorflow:Done calling model_fn.\n",
      "INFO:tensorflow:Create CheckpointSaverHook.\n",
      "INFO:tensorflow:Graph was finalized.\n",
      "INFO:tensorflow:Running local_init_op.\n",
      "INFO:tensorflow:Done running local_init_op.\n",
      "INFO:tensorflow:Saving checkpoints for 0 into ./summary/model.ckpt.\n",
      "INFO:tensorflow:loss = 609.24274, step = 1\n",
      "INFO:tensorflow:global_step/sec: 53.1232\n",
      "INFO:tensorflow:loss = 283.1012, step = 101 (1.883 sec)\n",
      "INFO:tensorflow:global_step/sec: 56.9028\n",
      "INFO:tensorflow:loss = 168.08698, step = 201 (1.758 sec)\n",
      "INFO:tensorflow:global_step/sec: 56.4218\n",
      "INFO:tensorflow:loss = 163.23788, step = 301 (1.772 sec)\n",
      "INFO:tensorflow:global_step/sec: 56.5201\n",
      "INFO:tensorflow:loss = 114.52593, step = 401 (1.769 sec)\n",
      "INFO:tensorflow:global_step/sec: 57.1656\n",
      "INFO:tensorflow:loss = 81.08363, step = 501 (1.749 sec)\n",
      "INFO:tensorflow:global_step/sec: 54.1802\n",
      "INFO:tensorflow:loss = 105.92674, step = 601 (1.846 sec)\n",
      "INFO:tensorflow:global_step/sec: 63.6748\n",
      "INFO:tensorflow:loss = 63.34454, step = 701 (1.571 sec)\n",
      "INFO:tensorflow:global_step/sec: 49.1443\n",
      "INFO:tensorflow:loss = 74.592995, step = 801 (2.035 sec)\n",
      "INFO:tensorflow:global_step/sec: 55.9434\n",
      "INFO:tensorflow:loss = 62.088318, step = 901 (1.788 sec)\n",
      "INFO:tensorflow:global_step/sec: 45.8462\n",
      "INFO:tensorflow:loss = 71.52225, step = 1001 (2.181 sec)\n",
      "INFO:tensorflow:global_step/sec: 54.2474\n",
      "INFO:tensorflow:loss = 67.487595, step = 1101 (1.843 sec)\n",
      "INFO:tensorflow:Saving checkpoints for 1175 into ./summary/model.ckpt.\n",
      "INFO:tensorflow:Loss for final step: 19.80032.\n"
     ]
    }
   ],
   "source": [
    "train = estimator.train(input_fn=train_input_fn)"
   ]
  },
  {
   "cell_type": "code",
   "execution_count": 8,
   "metadata": {},
   "outputs": [
    {
     "data": {
      "text/plain": [
       "['dnn/head/beta1_power',\n",
       " 'dnn/head/beta2_power',\n",
       " 'dnn/hiddenlayer_0/bias',\n",
       " 'dnn/hiddenlayer_0/bias/t_0/Adam',\n",
       " 'dnn/hiddenlayer_0/bias/t_0/Adam_1',\n",
       " 'dnn/hiddenlayer_0/kernel',\n",
       " 'dnn/hiddenlayer_0/kernel/t_0/Adam',\n",
       " 'dnn/hiddenlayer_0/kernel/t_0/Adam_1',\n",
       " 'dnn/hiddenlayer_1/bias',\n",
       " 'dnn/hiddenlayer_1/bias/t_0/Adam',\n",
       " 'dnn/hiddenlayer_1/bias/t_0/Adam_1',\n",
       " 'dnn/hiddenlayer_1/kernel',\n",
       " 'dnn/hiddenlayer_1/kernel/t_0/Adam',\n",
       " 'dnn/hiddenlayer_1/kernel/t_0/Adam_1',\n",
       " 'dnn/logits/bias',\n",
       " 'dnn/logits/bias/t_0/Adam',\n",
       " 'dnn/logits/bias/t_0/Adam_1',\n",
       " 'dnn/logits/kernel',\n",
       " 'dnn/logits/kernel/t_0/Adam',\n",
       " 'dnn/logits/kernel/t_0/Adam_1',\n",
       " 'global_step']"
      ]
     },
     "execution_count": 8,
     "metadata": {},
     "output_type": "execute_result"
    }
   ],
   "source": [
    "estimator.get_variable_names()"
   ]
  }
 ],
 "metadata": {
  "kernelspec": {
   "display_name": "Python 3",
   "language": "python",
   "name": "python3"
  },
  "language_info": {
   "codemirror_mode": {
    "name": "ipython",
    "version": 3
   },
   "file_extension": ".py",
   "mimetype": "text/x-python",
   "name": "python",
   "nbconvert_exporter": "python",
   "pygments_lexer": "ipython3",
   "version": "3.6.2"
  }
 },
 "nbformat": 4,
 "nbformat_minor": 2
}
